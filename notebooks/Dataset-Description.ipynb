{
 "cells": [
  {
   "cell_type": "markdown",
   "metadata": {},
   "source": [
    "# CineSimile: DM Project - Movie Recommendation System"
   ]
  },
  {
   "cell_type": "code",
   "execution_count": null,
   "metadata": {},
   "outputs": [],
   "source": [
    "import json\n",
    "import pandas as pd\n",
    "import numpy as np\n",
    "import os\n",
    "import seaborn as sns\n",
    "import matplotlib.pyplot as plt\n",
    "sns.set_theme(style=\"whitegrid\")\n",
    "\n",
    "pd.set_option('display.max_rows', 100)"
   ]
  },
  {
   "cell_type": "code",
   "execution_count": null,
   "metadata": {},
   "outputs": [],
   "source": [
    "import pickle\n",
    "import glob\n",
    "\n",
    "base_path = os.path.dirname(os.getcwd())\n",
    "master_data_path = os.path.abspath(os.path.join(base_path,'master-data'))\n",
    "data_path = os.path.abspath(os.path.join(base_path,'data'))\n",
    "images_path = os.path.abspath(os.path.join(base_path,'dm-final-report', 'images'))   \n",
    "# tsv_files = glob.glob(os.path.join(master_data_path,\"*.tsv.gz\"))\n",
    "\n",
    "# for file in tsv_files:\n",
    "#     print(file)\n",
    "#     pickle.dump(pd.read_table(file,sep=\"\\t\",low_memory=False, na_values=[\"\\\\N\",\"nan\"]),\n",
    "#                 open(file[:-7]+\".sav\",\"wb\"))"
   ]
  },
  {
   "cell_type": "markdown",
   "metadata": {},
   "source": [
    "## Merging the Datasets"
   ]
  },
  {
   "cell_type": "markdown",
   "metadata": {},
   "source": [
    "Loading the datasets"
   ]
  },
  {
   "cell_type": "markdown",
   "metadata": {},
   "source": [
    "\\item \\textbf{Title Basics Dataset}: Contains the basic information about the movies.\n",
    "\n",
    "      \\item \\textbf{Title Crew Dataset}: Contains the directors and writers of the movies.\n",
    "      \n",
    "      \\item \\textbf{Title Principals Dataset}: Contains the cast members of the movies.\n",
    "      \n",
    "      \\item \\textbf{Title Ratings Dataset}: Contains the ratings of the movies.\n",
    "      \n",
    "      \\item \\textbf{Name Basics Dataset}: Contains the people's information who are associated with the movies."
   ]
  },
  {
   "cell_type": "code",
   "execution_count": null,
   "metadata": {},
   "outputs": [],
   "source": [
    "title_basics_df = pd.read_pickle(os.path.join(data_path,\"title.basics.cleaned.sav\"))\n",
    "title_crew_df = pd.read_pickle(os.path.join(data_path,\"title.crew.cleaned.sav\"))\n",
    "title_principals_df = pd.read_pickle(os.path.join(data_path,\"title.principals.cleaned.sav\"))\n",
    "title_ratings_df = pd.read_pickle(os.path.join(master_data_path,\"title.ratings.sav\"))\n",
    "name_basics_df = pd.read_pickle(os.path.join(data_path,\"name.basics.cleaned.sav\"))"
   ]
  },
  {
   "cell_type": "code",
   "execution_count": null,
   "metadata": {},
   "outputs": [],
   "source": [
    "# missing values\n",
    "title_basics_df.columns, title_basics_df.shape"
   ]
  },
  {
   "cell_type": "code",
   "execution_count": null,
   "metadata": {},
   "outputs": [],
   "source": [
    "title_crew_df.columns, title_crew_df.shape"
   ]
  },
  {
   "cell_type": "code",
   "execution_count": null,
   "metadata": {},
   "outputs": [],
   "source": [
    "title_principals_df.columns, title_principals_df.shape"
   ]
  },
  {
   "cell_type": "code",
   "execution_count": null,
   "metadata": {},
   "outputs": [],
   "source": [
    "title_ratings_df.columns, title_ratings_df.shape"
   ]
  },
  {
   "cell_type": "code",
   "execution_count": null,
   "metadata": {},
   "outputs": [],
   "source": [
    "name_basics_df.columns, name_basics_df.shape"
   ]
  },
  {
   "cell_type": "code",
   "execution_count": null,
   "metadata": {},
   "outputs": [],
   "source": [
    "# merge all title_basics_df, title_crew_df, title_principals_df and title_ratings_df on tconst\n",
    "\n",
    "title_basics_crew_merged_df = pd.merge(title_basics_df, title_crew_df, on=\"tconst\", how=\"inner\")\n",
    "title_basics_crew_principals_merged_df = pd.merge(title_basics_crew_merged_df, title_principals_df, on=\"tconst\", how=\"inner\")\n",
    "title_basics_crew_principals_ratings_merged_df = pd.merge(title_basics_crew_principals_merged_df, title_ratings_df, on=\"tconst\", how=\"inner\")\n",
    "title_basics_crew_principals_ratings_merged_df.to_pickle(os.path.join(data_path,\"title.basics.crew.principals.ratings.cleaned.sav\"))"
   ]
  },
  {
   "cell_type": "markdown",
   "metadata": {},
   "source": [
    "# Read dataset"
   ]
  },
  {
   "cell_type": "code",
   "execution_count": null,
   "metadata": {},
   "outputs": [],
   "source": [
    "title_basics_crew_principals_ratings_merged_df = pd.read_pickle(os.path.join(data_path,\"title.basics.crew.principals.ratings.cleaned.sav\"))\n",
    "title_basics_crew_principals_ratings_merged_df"
   ]
  },
  {
   "cell_type": "code",
   "execution_count": null,
   "metadata": {},
   "outputs": [],
   "source": [
    "# cleaned_principals_df = title_basics_crew_principals_ratings_merged_df[[\"tconst\", \"nconst\"]].copy()\n",
    "# cleaned_principals_df.to_pickle(os.path.join(data_path,\"title.principals.cleaned.v2.sav\"))"
   ]
  },
  {
   "cell_type": "code",
   "execution_count": null,
   "metadata": {},
   "outputs": [],
   "source": [
    "# title_basics_crew_principals_ratings_merged_df = title_basics_crew_principals_ratings_merged_df.drop(columns=[\"nconst\"])\n",
    "# title_basics_crew_principals_ratings_merged_df = title_basics_crew_principals_ratings_merged_df.drop_duplicates()\n",
    "# title_basics_crew_principals_ratings_merged_df.to_pickle(os.path.join(data_path,\"title.basics.crew.principals.ratings.cleaned.sav\"))"
   ]
  },
  {
   "cell_type": "code",
   "execution_count": null,
   "metadata": {},
   "outputs": [],
   "source": [
    "import plotly.express as px\n",
    "\n",
    "fig = px.box(title_basics_crew_principals_ratings_merged_df[[\"titleType\", \"runtimeMinutes\"]], x='titleType', y='runtimeMinutes',\n",
    "             category_orders={\"titleType\": [\"movie\"]},\n",
    "             title='Distribution of Movie Runtime Minutes',\n",
    "             log_y=True)  # Setting the y-axis to logarithmic scale\n",
    "\n",
    "fig.update_layout(\n",
    "    xaxis_title='',\n",
    "    yaxis_title='Runtime Minutes (Log Scale)',\n",
    "    title_font_size=20, \n",
    "    font=dict(size=14, color='black'), \n",
    "    width=800,  \n",
    "    height=600, \n",
    "    margin=dict(l=40, r=40, t=60, b=40),  \n",
    "    plot_bgcolor='white',  \n",
    "    paper_bgcolor='white' \n",
    ")\n",
    "\n",
    "fig.show()\n"
   ]
  },
  {
   "cell_type": "code",
   "execution_count": null,
   "metadata": {},
   "outputs": [],
   "source": [
    "title_basics_crew_principals_ratings_merged_df"
   ]
  },
  {
   "cell_type": "code",
   "execution_count": null,
   "metadata": {},
   "outputs": [],
   "source": [
    "title_basics_crew_principals_ratings_merged_df = title_basics_crew_principals_ratings_merged_df[(title_basics_crew_principals_ratings_merged_df[\"runtimeMinutes\"] >= 30) & (title_basics_crew_principals_ratings_merged_df[\"runtimeMinutes\"] <= 300)]\n",
    "title_basics_crew_principals_ratings_merged_df = title_basics_crew_principals_ratings_merged_df.reset_index(drop=True)\n",
    "title_basics_crew_principals_ratings_merged_df.to_pickle(os.path.join(data_path,\"title.basics.crew.principals.ratings.cleaned.sav\"))"
   ]
  },
  {
   "cell_type": "code",
   "execution_count": null,
   "metadata": {},
   "outputs": [],
   "source": [
    "title_basics_crew_principals_ratings_merged_df[[\"tconst\"]].nunique()"
   ]
  },
  {
   "cell_type": "code",
   "execution_count": null,
   "metadata": {},
   "outputs": [],
   "source": [
    "title_basics_crew_principals_ratings_merged_df = pd.read_pickle(os.path.join(data_path,\"title.basics.crew.principals.ratings.cleaned.sav\"))\n",
    "title_basics_crew_principals_ratings_merged_df"
   ]
  },
  {
   "cell_type": "code",
   "execution_count": null,
   "metadata": {},
   "outputs": [],
   "source": [
    "title_basics_crew_principals_ratings_merged_df[\"runtimeMinutes\"].describe(include=\"all\")"
   ]
  },
  {
   "cell_type": "code",
   "execution_count": null,
   "metadata": {},
   "outputs": [],
   "source": [
    "import plotly.express as px\n",
    "\n",
    "\n",
    "fig = px.box(title_basics_crew_principals_ratings_merged_df, y='runtimeMinutes',\n",
    "             title='Distribution of Movie Runtime Minutes',\n",
    "             labels={'runtimeMinutes': 'Runtime Minutes'})\n",
    "\n",
    "fig.update_layout(\n",
    "    plot_bgcolor='white',  \n",
    "    paper_bgcolor='white',  \n",
    "    font_color='black',  \n",
    "    title_font_size=20, \n",
    "    font=dict(size=14), \n",
    "    width=800, \n",
    "    height=600, \n",
    "    margin=dict(l=40, r=40, t=60, b=40)  \n",
    ")\n",
    "\n",
    "fig.show()\n"
   ]
  },
  {
   "cell_type": "code",
   "execution_count": null,
   "metadata": {},
   "outputs": [],
   "source": [
    "title_basics_crew_principals_ratings_merged_df"
   ]
  },
  {
   "cell_type": "code",
   "execution_count": null,
   "metadata": {},
   "outputs": [],
   "source": [
    "title_basics_crew_principals_ratings_merged_df[\"isAdult\"].value_counts()"
   ]
  },
  {
   "cell_type": "code",
   "execution_count": null,
   "metadata": {},
   "outputs": [],
   "source": [
    "import plotly.express as px\n",
    "\n",
    "\n",
    "counts = title_basics_crew_principals_ratings_merged_df['isAdult'].value_counts()\n",
    "\n",
    "\n",
    "percentages = 100 * counts / counts.sum()\n",
    "\n",
    "\n",
    "percentages_df = percentages.reset_index()\n",
    "percentages_df.columns = ['isAdult', 'Percentage']\n",
    "\n",
    "\n",
    "fig = px.pie(percentages_df, values='Percentage', names='isAdult', title='Percentage of Movies by Adult Content')\n",
    "\n",
    "\n",
    "fig.update_layout(\n",
    "    paper_bgcolor='white',  \n",
    "    font_color='black',  \n",
    "    title_font_size=20,  \n",
    "    width=1000, \n",
    "    height=800,\n",
    "    font=dict(size=14),  \n",
    ")\n",
    "\n",
    "\n",
    "fig.show()\n"
   ]
  },
  {
   "cell_type": "code",
   "execution_count": null,
   "metadata": {},
   "outputs": [],
   "source": [
    "from sklearn.feature_extraction.text import CountVectorizer\n",
    "import numpy as np\n",
    "\n",
    "\n",
    "temp = title_basics_crew_principals_ratings_merged_df['genres'].dropna()\n",
    "vec = CountVectorizer(token_pattern='(?u)\\\\b[\\\\w-]+\\\\b', analyzer='word').fit(temp)\n",
    "bag_of_genres = vec.transform(temp)\n",
    "unique_genres = vec.get_feature_names_out()  \n",
    "np.array(unique_genres)"
   ]
  },
  {
   "cell_type": "code",
   "execution_count": null,
   "metadata": {},
   "outputs": [],
   "source": [
    "import plotly.express as px\n",
    "import pandas as pd\n",
    "\n",
    "\n",
    "genres = pd.DataFrame(bag_of_genres.todense(), columns=unique_genres, index=temp.index)\n",
    "sorted_genres_perc = 100 * pd.Series(genres.sum()).sort_values(ascending=False) / genres.shape[0]\n",
    "\n",
    "\n",
    "df_sorted_genres_perc = sorted_genres_perc.reset_index()\n",
    "df_sorted_genres_perc.columns = ['Genre', 'Percentage of Films']\n",
    "\n",
    "\n",
    "fig = px.bar(df_sorted_genres_perc, y='Genre', x='Percentage of Films', orientation='h',\n",
    "             labels={'Percentage of Films': 'Percentage of Films (%) (Log Scale)'},\n",
    "             height=800, title='Percentage of Films by Genre', log_x=True)\n",
    "\n",
    "\n",
    "fig.update_layout(\n",
    "    xaxis_title='Percentage of Films (%) (Log Scale)',\n",
    "    yaxis_title='Genre',\n",
    "    title_font_size=20,\n",
    "    font=dict(size=14, color='black'),\n",
    "    width=800,\n",
    "    margin=dict(l=40, r=40, t=60, b=40),\n",
    "    plot_bgcolor='white', \n",
    "    paper_bgcolor='white' \n",
    ")"
   ]
  },
  {
   "cell_type": "code",
   "execution_count": null,
   "metadata": {},
   "outputs": [],
   "source": [
    "title_basics_crew_principals_ratings_merged_df"
   ]
  },
  {
   "cell_type": "code",
   "execution_count": null,
   "metadata": {},
   "outputs": [],
   "source": [
    "import plotly.graph_objs as go\n",
    "import pandas as pd\n",
    "\n",
    "\n",
    "movies_per_year = title_basics_crew_principals_ratings_merged_df.groupby('startYear').size()\n",
    "\n",
    "\n",
    "movies_per_year_df = movies_per_year.reset_index()\n",
    "movies_per_year_df.columns = ['startYear', 'Count']\n",
    "\n",
    "\n",
    "fig = go.Figure(data=go.Scatter(x=movies_per_year_df['startYear'], y=movies_per_year_df['Count'],\n",
    "                                mode='markers+lines', \n",
    "                                marker=dict(size=5)))\n",
    "\n",
    "fig.update_layout(title='Count of Movies Per Year',\n",
    "                  xaxis=dict(\n",
    "                      title=\"Year\",\n",
    "                      tickmode='linear',\n",
    "                      dtick=5,\n",
    "                      tickformat=\"%Y\",\n",
    "                      range=[movies_per_year_df['startYear'].min() - 5, 2025] \n",
    "                  ),\n",
    "                  yaxis_title='Count of Movies',\n",
    "                  paper_bgcolor='white',\n",
    "                  plot_bgcolor='white',\n",
    "                  font=dict(color='black'),\n",
    "                  width=1000,\n",
    "                  height=600)\n",
    "\n",
    "\n",
    "fig.show()\n"
   ]
  },
  {
   "cell_type": "code",
   "execution_count": null,
   "metadata": {},
   "outputs": [],
   "source": [
    "import plotly.graph_objs as go\n",
    "import pandas as pd\n",
    "\n",
    "\n",
    "votes_per_year = title_basics_crew_principals_ratings_merged_df.groupby('startYear')['numVotes'].sum()\n",
    "\n",
    "\n",
    "votes_per_year_df = votes_per_year.reset_index()\n",
    "votes_per_year_df.columns = ['startYear', 'TotalVotes']\n",
    "\n",
    "\n",
    "fig = go.Figure(data=go.Scatter(x=votes_per_year_df['startYear'], y=votes_per_year_df['TotalVotes'],\n",
    "                                mode='markers+lines',  \n",
    "                                marker=dict(size=5))) \n",
    "\n",
    "\n",
    "fig.update_layout(title='Total Number of Votes Per Year',\n",
    "                  xaxis=dict(\n",
    "                      title=\"Year\",\n",
    "                      tickmode='linear',\n",
    "                      dtick=5,  \n",
    "                      tickformat=\"%Y\", \n",
    "                      range=[votes_per_year_df['startYear'].min()-5, 2025] \n",
    "                  ),\n",
    "                  yaxis_title='Total Votes',\n",
    "                  paper_bgcolor='white',\n",
    "                  plot_bgcolor='white',\n",
    "                  font=dict(color='black'),\n",
    "                  width=1000,\n",
    "                  height=600)\n",
    "\n",
    "\n",
    "fig.show()\n"
   ]
  },
  {
   "cell_type": "code",
   "execution_count": null,
   "metadata": {},
   "outputs": [],
   "source": [
    "title_basics_crew_principals_ratings_merged_df.groupby('startYear')['numVotes'].sum().reset_index().sort_values(by=\"numVotes\", ascending=False)"
   ]
  },
  {
   "cell_type": "code",
   "execution_count": null,
   "metadata": {},
   "outputs": [],
   "source": [
    "title_basics_crew_principals_ratings_merged_df[title_basics_crew_principals_ratings_merged_df[\"startYear\"] == 2013].sort_values(by=\"numVotes\", ascending=False)"
   ]
  },
  {
   "cell_type": "code",
   "execution_count": null,
   "metadata": {},
   "outputs": [],
   "source": [
    "title_basics_crew_principals_ratings_merged_df[title_basics_crew_principals_ratings_merged_df[\"startYear\"] == 2012].sort_values(by=\"numVotes\", ascending=False)"
   ]
  },
  {
   "cell_type": "code",
   "execution_count": null,
   "metadata": {},
   "outputs": [],
   "source": [
    "import plotly.graph_objs as go\n",
    "import pandas as pd\n",
    "\n",
    "\n",
    "average_rating_per_year = title_basics_crew_principals_ratings_merged_df.groupby('startYear')['averageRating'].mean()\n",
    "\n",
    "\n",
    "average_rating_per_year_df = average_rating_per_year.reset_index()\n",
    "average_rating_per_year_df.columns = ['startYear', 'AverageRating']\n",
    "\n",
    "\n",
    "fig = go.Figure(data=go.Scatter(x=average_rating_per_year_df['startYear'], y=average_rating_per_year_df['AverageRating'],\n",
    "                                mode='markers+lines',  \n",
    "                                marker=dict(size=5)))\n",
    "\n",
    "\n",
    "fig.update_layout(title='Average Movie Rating Per Year',\n",
    "                  xaxis=dict(\n",
    "                      title=\"Year\",\n",
    "                      tickmode='linear',\n",
    "                      dtick=5, \n",
    "                      tickformat=\"%Y\", \n",
    "                      range=[average_rating_per_year_df['startYear'].min() - 5, 2025]  \n",
    "                  ),\n",
    "                  yaxis_title='Average Rating',\n",
    "                  paper_bgcolor='white',\n",
    "                  plot_bgcolor='white',\n",
    "                  font=dict(color='black'),\n",
    "                  width=1000,\n",
    "                  height=600)\n",
    "\n",
    "\n",
    "fig.show()\n"
   ]
  },
  {
   "cell_type": "code",
   "execution_count": null,
   "metadata": {},
   "outputs": [],
   "source": [
    "title_basics_crew_principals_ratings_merged_df.groupby('startYear')['averageRating'].mean().reset_index().sort_values(by=\"averageRating\", ascending=False)"
   ]
  },
  {
   "cell_type": "code",
   "execution_count": null,
   "metadata": {},
   "outputs": [],
   "source": [
    "title_basics_crew_principals_ratings_merged_df[title_basics_crew_principals_ratings_merged_df[\"startYear\"] == 1909].sort_values(by=\"averageRating\", ascending=False)"
   ]
  },
  {
   "cell_type": "code",
   "execution_count": null,
   "metadata": {},
   "outputs": [],
   "source": [
    "title_basics_crew_principals_ratings_merged_df.columns"
   ]
  },
  {
   "cell_type": "code",
   "execution_count": null,
   "metadata": {},
   "outputs": [],
   "source": [
    "import pandas as pd\n",
    "import plotly.express as px\n",
    "\n",
    "\n",
    "df = title_basics_crew_principals_ratings_merged_df.copy()\n",
    "df['genres'] = df['genres'].str.split(',')\n",
    "df_exploded = df.explode('genres')\n",
    "\n",
    "\n",
    "df_exploded['decade'] = (df_exploded['startYear'] // 10) * 10\n",
    "\n",
    "\n",
    "genre_decade_distribution = df_exploded.groupby(['decade', 'genres']).size().reset_index(name='count')\n",
    "\n",
    "\n",
    "fig = px.line(genre_decade_distribution, x='decade', y='count', color='genres', \n",
    "              line_group='genres', markers=True, \n",
    "              labels={'decade': 'Decade', 'count': 'Number of Movies', 'genres': 'Genre'},\n",
    "              title='Movie Distribution by Genre and Decade')\n",
    "\n",
    "\n",
    "fig.update_layout(\n",
    "    xaxis=dict(\n",
    "        title='Decade',\n",
    "        tickmode='array',\n",
    "        tickvals=genre_decade_distribution['decade'].unique(),\n",
    "        ticktext=[f\"{int(d)}s\" for d in genre_decade_distribution['decade'].unique()]\n",
    "    ),\n",
    "    yaxis=dict(\n",
    "        title='Number of Movies',\n",
    "        type='linear'  \n",
    "    ),\n",
    "    paper_bgcolor='white',\n",
    "    plot_bgcolor='white',\n",
    "    font=dict(color='black', size=15),\n",
    "    width=1200, \n",
    "    height=1200 \n",
    ")\n",
    "\n",
    "\n",
    "fig.show()\n"
   ]
  },
  {
   "cell_type": "code",
   "execution_count": null,
   "metadata": {},
   "outputs": [],
   "source": [
    "import plotly.express as px\n",
    "\n",
    "\n",
    "graph_df = title_basics_crew_principals_ratings_merged_df.copy()\n",
    "graph_df['runtimeMinutes'] = pd.to_numeric(graph_df['runtimeMinutes'], errors='coerce')\n",
    "graph_df = graph_df.dropna(subset=['runtimeMinutes'])\n",
    "\n",
    "\n",
    "graph_df['genres'] = graph_df['genres'].str.split(',')\n",
    "df_exploded = graph_df[[\"genres\", \"runtimeMinutes\"]].explode('genres')\n",
    "\n",
    "\n",
    "fig = px.box(df_exploded, x='genres', y='runtimeMinutes', notched=True,\n",
    "             title='Runtime Durations by Genre')\n",
    "\n",
    "\n",
    "fig.update_layout(\n",
    "    xaxis_title='Genre',\n",
    "    yaxis_title='Runtime Minutes',\n",
    "    paper_bgcolor='white',\n",
    "    plot_bgcolor='white',\n",
    "    font=dict(color='black', size=14),\n",
    "    xaxis={'categoryorder':'total descending'}, \n",
    "     yaxis=dict(\n",
    "        dtick=10  \n",
    "    ),\n",
    "    width=1200,\n",
    "    height=800\n",
    ")\n",
    "\n",
    "\n",
    "fig.show()\n"
   ]
  },
  {
   "cell_type": "code",
   "execution_count": null,
   "metadata": {},
   "outputs": [],
   "source": [
    "import pandas as pd\n",
    "import plotly.express as px\n",
    "\n",
    "\n",
    "df = title_basics_crew_principals_ratings_merged_df[[\"genres\", \"isAdult\"]].copy()\n",
    "df['genres'] = df['genres'].str.split(',')\n",
    "df_exploded = df.explode('genres')\n",
    "\n",
    "\n",
    "genre_adult_counts = df_exploded.groupby(['genres', 'isAdult']).size().reset_index(name='count')\n",
    "\n",
    "\n",
    "genre_adult_pivot = genre_adult_counts.pivot(index='genres', columns='isAdult', values='count').reset_index()\n",
    "genre_adult_pivot.columns = ['genres', 'non_adult', 'adult']\n",
    "\n",
    "\n",
    "genre_adult_pivot = genre_adult_pivot.fillna(0)\n",
    "\n",
    "\n",
    "genre_adult_pivot['adult_to_non_adult_ratio'] = genre_adult_pivot['adult'] / genre_adult_pivot['non_adult']\n",
    "\n",
    "\n",
    "fig = px.bar(genre_adult_pivot, x='genres', y='adult_to_non_adult_ratio',\n",
    "             title='Ratio of Adult to Non-Adult Content by Movie Genre')\n",
    "\n",
    "\n",
    "fig.update_layout(\n",
    "    xaxis_title='Genre',\n",
    "    yaxis_title='Adult to Non-Adult Ratio',\n",
    "    xaxis={'categoryorder':'total descending'},\n",
    "    paper_bgcolor='white',\n",
    "    plot_bgcolor='white',\n",
    "    font=dict(color='black', size=14),\n",
    "    yaxis=dict(type=\"log\"),  \n",
    "    width=1200,\n",
    "    height=800\n",
    ")\n",
    "\n",
    "\n",
    "fig.show()\n"
   ]
  },
  {
   "cell_type": "code",
   "execution_count": null,
   "metadata": {},
   "outputs": [],
   "source": []
  },
  {
   "cell_type": "code",
   "execution_count": null,
   "metadata": {},
   "outputs": [],
   "source": [
    "import pandas as pd\n",
    "import plotly.graph_objs as go\n",
    "\n",
    "\n",
    "df = title_basics_crew_principals_ratings_merged_df.copy()\n",
    "df['genres'] = df['genres'].str.split(',')\n",
    "df_exploded = df.explode('genres')\n",
    "\n",
    "\n",
    "genre_stats = df_exploded.groupby('genres').agg({\n",
    "    'numVotes': 'sum',\n",
    "    'averageRating': 'mean'\n",
    "}).reset_index()\n",
    "\n",
    "\n",
    "genre_stats = genre_stats.sort_values(by='numVotes', ascending=False)\n"
   ]
  },
  {
   "cell_type": "code",
   "execution_count": null,
   "metadata": {},
   "outputs": [],
   "source": [
    "# Create the bar plot for numVotes\n",
    "fig_votes = go.Figure([go.Bar(x=genre_stats['genres'], y=genre_stats['numVotes'], marker_color='blue')])\n",
    "fig_votes.update_layout(\n",
    "    title='Total Number of Votes by Genre',\n",
    "    xaxis_title='Genre',\n",
    "    yaxis_title='Total Votes (Log Scale)',\n",
    "    paper_bgcolor='white',\n",
    "    plot_bgcolor='white',\n",
    "    yaxis=dict(type='log'),  # Logarithmic scale for better visualization\n",
    "    font=dict(color='black', size=15),\n",
    "    width=1200,  # Adjust width\n",
    "    height=800   # Adjust height\n",
    ")\n",
    "fig_votes.show()\n"
   ]
  },
  {
   "cell_type": "code",
   "execution_count": null,
   "metadata": {},
   "outputs": [],
   "source": [
    "# Create the bar plot for averageRating\n",
    "import plotly.graph_objs as go\n",
    "\n",
    "genre_stats = genre_stats.sort_values(by='averageRating', ascending=False)\n",
    "\n",
    "fig_ratings = go.Figure([go.Bar(x=genre_stats['genres'], y=genre_stats['averageRating'], marker_color='green')])\n",
    "fig_ratings.update_layout(\n",
    "    title='Average Rating by Genre',\n",
    "    xaxis_title='Genre',\n",
    "    yaxis_title='Average Rating',\n",
    "    paper_bgcolor='white',\n",
    "    plot_bgcolor='white',\n",
    "    yaxis=dict(\n",
    "        range=[0, 9], \n",
    "        dtick=1, \n",
    "        tickmode='array',\n",
    "        tickvals=[1, 2, 3, 4, 5, 6, 7, 8], \n",
    "        gridcolor='grey'\n",
    "    ),\n",
    "    font=dict(color='black', size=15),\n",
    "    width=1200, \n",
    "    height=800   \n",
    ")\n",
    "\n",
    "fig_ratings.show()\n"
   ]
  },
  {
   "cell_type": "code",
   "execution_count": null,
   "metadata": {},
   "outputs": [],
   "source": [
    "import pandas as pd\n",
    "\n",
    "name_basics_df = pd.read_pickle(os.path.join(data_path,\"name.basics.cleaned.sav\"))\n",
    "\n",
    "\n",
    "df_movies = title_basics_crew_principals_ratings_merged_df[[\"directors\", \"numVotes\", \"averageRating\"]].copy()\n",
    "df_movies['directors'] = df_movies['directors'].str.split(',')\n",
    "df_exploded = df_movies.explode('directors')\n",
    "\n",
    "\n",
    "df_directors = name_basics_df[['nconst', 'primaryName']].drop_duplicates()\n",
    "df_exploded = df_exploded.merge(df_directors, left_on='directors', right_on='nconst', how='left')\n",
    "\n",
    "\n",
    "director_popularity = df_exploded.groupby('primaryName').agg({\n",
    "    'numVotes': 'sum'  \n",
    "}).reset_index()\n",
    "\n",
    "\n",
    "top_directors = director_popularity.sort_values(by='numVotes', ascending=False).head(50)\n"
   ]
  },
  {
   "cell_type": "code",
   "execution_count": null,
   "metadata": {},
   "outputs": [],
   "source": [
    "import plotly.graph_objs as go\n",
    "\n",
    "# Create the bar plot for top directors\n",
    "fig = go.Figure([go.Bar(x=top_directors['primaryName'], y=top_directors['numVotes'])])\n",
    "fig.update_layout(\n",
    "    title='Top 50 Directors by Movie Popularity (Total Votes)',\n",
    "    xaxis_title='Director',\n",
    "    yaxis_title='Total Votes',\n",
    "    xaxis={'categoryorder':'total descending'},\n",
    "    paper_bgcolor='white',\n",
    "    plot_bgcolor='white',\n",
    "    font=dict(color='black', size=15),\n",
    "    width=1200,  \n",
    "    height=800  \n",
    ")\n",
    "fig.show()\n"
   ]
  },
  {
   "cell_type": "code",
   "execution_count": null,
   "metadata": {},
   "outputs": [],
   "source": [
    "df_movies = title_basics_crew_principals_ratings_merged_df[[\"tconst\", \"numVotes\"]]\n",
    "df_movies"
   ]
  },
  {
   "cell_type": "code",
   "execution_count": null,
   "metadata": {},
   "outputs": [],
   "source": [
    "cleaned_principals_df = pd.read_pickle(os.path.join(data_path,\"title.principals.cleaned.v2.sav\"))\n",
    "cleaned_principals_df.describe()"
   ]
  },
  {
   "cell_type": "code",
   "execution_count": null,
   "metadata": {},
   "outputs": [],
   "source": [
    "name_basics_df"
   ]
  },
  {
   "cell_type": "code",
   "execution_count": null,
   "metadata": {},
   "outputs": [],
   "source": [
    "movie_principal = df_movies.merge(cleaned_principals_df, on=\"tconst\", how=\"inner\")\n",
    "movie_principal_basic = movie_principal.merge(name_basics_df[[\"nconst\", \"primaryName\"]], on=\"nconst\", how=\"inner\")\n",
    "movie_principal_basic"
   ]
  },
  {
   "cell_type": "code",
   "execution_count": null,
   "metadata": {},
   "outputs": [],
   "source": [
    "import pandas as pd\n",
    "import plotly.express as px\n",
    "\n",
    "\n",
    "name_votes = movie_principal_basic.groupby('primaryName')['numVotes'].sum().reset_index()\n",
    "\n",
    "\n",
    "top_50_votes = name_votes.sort_values(by='numVotes', ascending=False).head(50)\n",
    "\n",
    "\n",
    "fig = px.bar(top_50_votes, x='primaryName', y='numVotes', title='Top 50 Names with Highest Votes')\n",
    "\n",
    "\n",
    "fig.update_layout(\n",
    "    xaxis_title='Name',\n",
    "    yaxis_title='Total Votes',\n",
    "    xaxis_tickangle=-45,\n",
    "    paper_bgcolor='white',\n",
    "    plot_bgcolor='white',\n",
    "    font=dict(color='black', size=15),\n",
    "    width=1200,\n",
    "    height=800\n",
    ")\n",
    "\n",
    "\n",
    "fig.show()\n"
   ]
  },
  {
   "cell_type": "code",
   "execution_count": null,
   "metadata": {},
   "outputs": [],
   "source": [
    "title_basics_crew_principals_ratings_merged_df"
   ]
  },
  {
   "cell_type": "code",
   "execution_count": null,
   "metadata": {},
   "outputs": [],
   "source": [
    "title_principals_df = pd.read_pickle(os.path.join(data_path,\"title.principals.cleaned.sav\"))\n",
    "name_basics_original_df = pd.read_pickle(os.path.join(master_data_path,\"name.basics.sav\"))"
   ]
  },
  {
   "cell_type": "code",
   "execution_count": null,
   "metadata": {},
   "outputs": [],
   "source": [
    "title_principals_df"
   ]
  },
  {
   "cell_type": "code",
   "execution_count": null,
   "metadata": {},
   "outputs": [],
   "source": [
    "name_basics_original_df = name_basics_original_df[[\"nconst\", \"primaryName\", \"primaryProfession\"]].copy()"
   ]
  },
  {
   "cell_type": "code",
   "execution_count": null,
   "metadata": {},
   "outputs": [],
   "source": [
    "name_basics_original_df"
   ]
  },
  {
   "cell_type": "code",
   "execution_count": null,
   "metadata": {},
   "outputs": [],
   "source": [
    "movies_df = title_basics_crew_principals_ratings_merged_df[[\"tconst\", \"averageRating\",\"numVotes\"]].copy()\n",
    "movies_df = movies_df.merge(title_principals_df, on=\"tconst\", how=\"inner\")\n",
    "movies_df = movies_df.merge(name_basics_original_df, on=\"nconst\", how=\"inner\")\n",
    "movies_df"
   ]
  },
  {
   "cell_type": "code",
   "execution_count": null,
   "metadata": {},
   "outputs": [],
   "source": [
    "movies_df[movies_df[\"primaryName\"] == \"Hans Zimmer\"]"
   ]
  },
  {
   "cell_type": "code",
   "execution_count": null,
   "metadata": {},
   "outputs": [],
   "source": [
    "import pandas as pd\n",
    "import plotly.express as px\n",
    "\n",
    "\n",
    "df =movies_df[['averageRating', 'numVotes','primaryName', 'primaryProfession']].copy()\n",
    "df['primaryProfession'] = df['primaryProfession'].fillna('')\n",
    "df = df[df['primaryName'] != \"Hans Zimmer\"]\n",
    "\n",
    "\n",
    "df['averageRating'] = pd.to_numeric(df['averageRating'], errors='coerce')\n",
    "df['numVotes'] = pd.to_numeric(df['numVotes'], errors='coerce')\n",
    "df.dropna(subset=['averageRating', 'numVotes'], inplace=True)\n",
    "\n",
    "\n",
    "df['is_actor'] = df['primaryProfession'].str.contains('actor', na=False)\n",
    "df['is_actress'] = df['primaryProfession'].str.contains('actress', na=False)\n",
    "\n",
    "actors_df = df[df['is_actor']].groupby('primaryName').agg({\n",
    "    'averageRating': 'mean',\n",
    "    'numVotes': 'sum'\n",
    "}).sort_values(by='numVotes', ascending=False).head(10)\n",
    "\n",
    "actresses_df = df[df['is_actress']].groupby('primaryName').agg({\n",
    "    'averageRating': 'mean',\n",
    "    'numVotes': 'sum'\n",
    "}).sort_values(by='numVotes', ascending=False).head(10)\n",
    "\n",
    "fig_actors = px.scatter(actors_df, x='averageRating', y='numVotes', text=actors_df.index,\n",
    "                        title='Top 10 Actors by Average Rating and Total Votes',\n",
    "                        labels={'averageRating': 'Average Rating', 'numVotes': 'Total Votes'})\n",
    "fig_actors.update_traces(textposition='top center')\n",
    "fig_actors.update_layout(    paper_bgcolor='white',\n",
    "    plot_bgcolor='white',\n",
    "    font=dict(color='black', size=15), xaxis_tickangle=-45, width=1500, height=1500)\n",
    "fig_actors.show()"
   ]
  },
  {
   "cell_type": "code",
   "execution_count": null,
   "metadata": {},
   "outputs": [],
   "source": [
    "fig_actresses = px.scatter(actresses_df, x='averageRating', y='numVotes', text=actresses_df.index,\n",
    "                           title='Top 10 Actresses by Average Rating and Total Votes',\n",
    "                           labels={'averageRating': 'Average Rating', 'numVotes': 'Total Votes'})\n",
    "fig_actresses.update_traces(textposition='top center')\n",
    "fig_actresses.update_layout(    paper_bgcolor='white',\n",
    "    plot_bgcolor='white',\n",
    "    font=dict(color='black', size=15), xaxis_tickangle=-45, width=1500, height=1500)\n",
    "fig_actresses.show()"
   ]
  },
  {
   "cell_type": "code",
   "execution_count": null,
   "metadata": {},
   "outputs": [],
   "source": [
    "import pandas as pd\n",
    "import plotly.express as px\n",
    "\n",
    "\n",
    "df = movies_df[['averageRating', 'primaryProfession']].copy()\n",
    "df['primaryProfession'] = df['primaryProfession'].apply(lambda x: x.split(',') if isinstance(x, str) else [])\n",
    "df_exploded = df.explode('primaryProfession')\n",
    "\n",
    "\n",
    "high_rating_threshold = 7.5 \n",
    "high_rating_df = df_exploded[df_exploded['averageRating'] >= high_rating_threshold]\n",
    "\n",
    "\n",
    "profession_rating = high_rating_df.groupby('primaryProfession')['averageRating'].mean().reset_index()\n",
    "\n",
    "\n",
    "profession_rating_sorted = profession_rating.sort_values(by='averageRating', ascending=False)\n",
    "\n",
    "\n",
    "fig = px.bar(profession_rating_sorted.head(20), x='primaryProfession', y='averageRating',\n",
    "             title='Top Professions Associated with High-Rating Titles')\n",
    "\n",
    "\n",
    "fig.update_layout(\n",
    "    xaxis_title='Profession',\n",
    "    yaxis_title='Average Rating of High-Rating Titles',\n",
    "    paper_bgcolor='white',\n",
    "    plot_bgcolor='white',\n",
    "    font=dict(color='black', size=14),\n",
    "    width=1200,\n",
    "    height=800\n",
    ")\n",
    "\n",
    "\n",
    "fig.show()\n"
   ]
  },
  {
   "cell_type": "code",
   "execution_count": null,
   "metadata": {},
   "outputs": [],
   "source": [
    "title_basics_crew_principals_ratings_merged_df[title_basics_crew_principals_ratings_merged_df[\"genres\"].str.contains(\"TV\")]"
   ]
  },
  {
   "cell_type": "code",
   "execution_count": null,
   "metadata": {},
   "outputs": [],
   "source": [
    "import pandas as pd\n",
    "import plotly.express as px\n",
    "\n",
    "\n",
    "df = title_basics_crew_principals_ratings_merged_df[['startYear', 'averageRating', 'numVotes', 'genres']].copy()\n",
    "df['decade'] = (df['startYear'] // 10) * 10\n",
    "\n",
    "\n",
    "df['averageRating'] = pd.to_numeric(df['averageRating'], errors='coerce')\n",
    "df['numVotes'] = pd.to_numeric(df['numVotes'], errors='coerce')\n",
    "\n",
    "\n",
    "df['genres'] = df['genres'].str.split(',')\n",
    "df_exploded = df.explode('genres')\n",
    "\n",
    "\n",
    "df_sampled = df_exploded.sample(frac=0.1, random_state=1)\n",
    "\n",
    "fig = px.scatter(df_sampled, x='averageRating', y='numVotes', color='genres',\n",
    "                 facet_col='genres', facet_col_wrap=4,\n",
    "                 title='Correlation between Ratings and Votes Across Genres',\n",
    "                 labels={'averageRating': 'Average Rating', 'numVotes': 'Number of Votes'})\n",
    "\n",
    "\n",
    "fig.update_layout(\n",
    "    paper_bgcolor='white',\n",
    "    plot_bgcolor='white',\n",
    "    font=dict(color='black', size=14),\n",
    "    height=1200,  \n",
    "    width=1200   \n",
    ")\n",
    "\n",
    "\n",
    "fig.show()\n"
   ]
  },
  {
   "cell_type": "code",
   "execution_count": null,
   "metadata": {},
   "outputs": [],
   "source": [
    "import pandas as pd\n",
    "import plotly.express as px\n",
    "\n",
    "\n",
    "df_sampled = df_exploded.sample(frac=0.1, random_state=1)\n",
    "\n",
    "\n",
    "fig = px.scatter(df_sampled, x='averageRating', y='numVotes', color='genres',\n",
    "                 facet_col='decade', facet_col_wrap=4,\n",
    "                 title='Correlation between Ratings and Votes Across Decades',\n",
    "                 labels={'averageRating': 'Average Rating', 'numVotes': 'Number of Votes'},\n",
    "                 category_orders={\"decade\": sorted(df_sampled['decade'].unique())})  # Ensure decades are sorted\n",
    "\n",
    "\n",
    "fig.update_layout(\n",
    "    paper_bgcolor='white',\n",
    "    plot_bgcolor='white',\n",
    "    font=dict(color='black', size=14),\n",
    "    height=1200,  \n",
    "    width=1200  \n",
    ")\n",
    "\n",
    "\n",
    "fig.show()\n"
   ]
  },
  {
   "cell_type": "code",
   "execution_count": null,
   "metadata": {},
   "outputs": [],
   "source": [
    "import pandas as pd\n",
    "import plotly.express as px\n",
    "\n",
    "\n",
    "df = title_basics_crew_principals_ratings_merged_df[['startYear', 'averageRating']].copy()\n",
    "df['decade'] = (df['startYear'] // 10) * 10\n",
    "\n",
    "\n",
    "decade_rating = df.groupby('decade')['averageRating'].mean().reset_index()\n",
    "\n",
    "\n",
    "fig = px.line(decade_rating, x='decade', y='averageRating',\n",
    "              title='Average Movie Ratings Across Decades',\n",
    "              labels={'decade': 'Decade', 'averageRating': 'Average Rating'})\n",
    "\n",
    "\n",
    "fig.update_layout(\n",
    "    xaxis_title='Decade',\n",
    "    yaxis_title='Average Rating',\n",
    "    paper_bgcolor='white',\n",
    "    plot_bgcolor='white',\n",
    "    font=dict(color='black', size=15),\n",
    "    xaxis_tickformat='d', \n",
    "    xaxis=dict(\n",
    "                      title=\"Decade\",\n",
    "                      tickmode='linear',\n",
    "                      dtick=10,\n",
    "                      tickformat=\"%Y\",\n",
    "                      range=[df['startYear'].min() - 5, 2025]  \n",
    "                  ),\n",
    "    width=1200,\n",
    "    height=800\n",
    ")\n",
    "\n",
    "\n",
    "fig.show()\n"
   ]
  },
  {
   "cell_type": "code",
   "execution_count": null,
   "metadata": {},
   "outputs": [],
   "source": [
    "import pandas as pd\n",
    "import plotly.express as px\n",
    "\n",
    "\n",
    "df = title_basics_crew_principals_ratings_merged_df[['runtimeMinutes', 'averageRating', 'genres']].copy()\n",
    "df['runtimeMinutes'] = pd.to_numeric(df['runtimeMinutes'], errors='coerce')\n",
    "df['averageRating'] = pd.to_numeric(df['averageRating'], errors='coerce')\n",
    "\n",
    "\n",
    "df = df.dropna(subset=['runtimeMinutes', 'averageRating'])\n",
    "\n",
    "\n",
    "df['genres'] = df['genres'].str.split(',')\n",
    "df_exploded = df.explode('genres')\n",
    "\n",
    "df_filtered = df_exploded[df_exploded['runtimeMinutes'] < 301] \n",
    "\n",
    "fig = px.scatter(df_filtered, x='runtimeMinutes', y='averageRating', color='genres',\n",
    "                 facet_col='genres', facet_col_wrap=4, \n",
    "                 title='Runtime vs. Average Rating by Genre',\n",
    "                 labels={'runtimeMinutes': 'Runtime (minutes)', 'averageRating': 'Average Rating'},\n",
    "                 hover_data=['genres'])\n",
    "\n",
    "\n",
    "fig.update_layout(\n",
    "    xaxis_title='Runtime in Minutes',\n",
    "    yaxis_title='Average Rating',\n",
    "    paper_bgcolor='white',\n",
    "    plot_bgcolor='white',\n",
    "    font=dict(color='black', size=15),\n",
    "    height=1500,  \n",
    "    width=1500\n",
    ")\n",
    "\n",
    "\n",
    "fig.for_each_annotation(lambda a: a.update(text=a.text.split(\"=\")[-1]))\n",
    "fig.update_xaxes(matches=None, showticklabels=True)\n",
    "fig.update_yaxes(matches=None, showticklabels=True)\n",
    "\n",
    "\n",
    "fig.show()"
   ]
  },
  {
   "cell_type": "code",
   "execution_count": null,
   "metadata": {},
   "outputs": [],
   "source": [
    "import plotly.figure_factory as ff\n",
    "\n",
    "features = ['averageRating', 'runtimeMinutes', 'numVotes']\n",
    "correlation_matrix = title_basics_crew_principals_ratings_merged_df[features].corr()\n",
    "\n",
    "\n",
    "colors = 'Viridis' \n",
    "\n",
    "\n",
    "fig = ff.create_annotated_heatmap(\n",
    "    z=correlation_matrix.to_numpy(),\n",
    "    x=correlation_matrix.columns.tolist(),\n",
    "    y=correlation_matrix.index.tolist(),\n",
    "    annotation_text=correlation_matrix.round(2).astype(str).to_numpy(),\n",
    "    showscale=True,\n",
    "    colorscale=colors\n",
    ")\n",
    "\n",
    "\n",
    "fig.update_layout(\n",
    "    title_text='Correlation Matrix',\n",
    "    title_x=0.5,\n",
    "    xaxis_title='Features',\n",
    "    yaxis_title='Features',\n",
    "    xaxis=dict(tickmode='array', tickvals=list(range(len(features))), ticktext=features),\n",
    "    yaxis=dict(tickmode='array', tickvals=list(range(len(features))), ticktext=features)\n",
    ")\n",
    "\n",
    "\n",
    "fig.update_layout(\n",
    "    title_font_size=20,\n",
    "    width=800,\n",
    "    height=800,\n",
    "    margin=dict(l=40, r=40, t=200, b=40),\n",
    "    paper_bgcolor='white',\n",
    "    plot_bgcolor='white',\n",
    "    font=dict(color='black', size=15),\n",
    ")\n",
    "\n",
    "\n",
    "fig.show()"
   ]
  },
  {
   "cell_type": "code",
   "execution_count": null,
   "metadata": {},
   "outputs": [],
   "source": [
    "import pandas as pd\n",
    "import scipy.stats as stats\n",
    "from statsmodels.stats.multicomp import pairwise_tukeyhsd\n",
    "\n",
    "\n",
    "genres_df = title_basics_crew_principals_ratings_merged_df[[\"genres\"]]['genres'].str.get_dummies(sep=',')\n",
    "\n",
    "\n",
    "genre_ratings_df = genres_df.join(title_basics_crew_principals_ratings_merged_df[[\"averageRating\"]]['averageRating'])\n",
    "\n",
    "\n",
    "anova_results = {}\n",
    "for genre in genres_df.columns:\n",
    "    grouped_data = genre_ratings_df.groupby(genre)['averageRating']\n",
    " \n",
    "    anova_results[genre] = stats.f_oneway(grouped_data.get_group(1), grouped_data.get_group(0))\n",
    "\n",
    "\n",
    "anova_df = pd.DataFrame(anova_results, index=['F-value', 'p-value']).T\n",
    "\n",
    "\n",
    "print(anova_df)\n",
    "\n",
    "\n",
    "tukey_results = pairwise_tukeyhsd(endog=genre_ratings_df['averageRating'], groups=genre_ratings_df['Drama'])\n",
    "print()\n",
    "print(tukey_results)\n"
   ]
  },
  {
   "cell_type": "code",
   "execution_count": 42,
   "metadata": {
    "ExecuteTime": {
     "end_time": "2024-04-25T13:29:39.186803Z",
     "start_time": "2024-04-25T13:29:38.545041Z"
    }
   },
   "outputs": [
    {
     "name": "stdout",
     "output_type": "stream",
     "text": [
      "Chi-square statistic: 244755.2042471774\n",
      "P-value: 0.0\n",
      "Degrees of freedom: 26\n",
      "\n",
      "Expected counts:\n",
      " isAdult              False        True \n",
      "genres                                 \n",
      "Action        26320.750461   232.249539\n",
      "Adult          2127.229710    18.770290\n",
      "Adventure     16494.455906   145.544094\n",
      "Animation      4448.745078    39.254922\n",
      "Biography      7479.006599    65.993401\n",
      "Comedy        66247.444537   584.555463\n",
      "Crime         23989.322559   211.677441\n",
      "Documentary   28095.093975   247.906025\n",
      "Drama        120352.035418  1061.964582\n",
      "Family        10036.440267    88.559733\n",
      "Fantasy        8112.417496    71.582504\n",
      "Film-Noir       873.294210     7.705790\n",
      "Game-Show         1.982507     0.017493\n",
      "History        7044.837628    62.162372\n",
      "Horror        19971.772692   176.227308\n",
      "Music          5441.980945    48.019055\n",
      "Musical        5593.642709    49.357291\n",
      "Mystery       11147.635283    98.364717\n",
      "News            455.976545     4.023455\n",
      "Reality-TV       24.781334     0.218666\n",
      "Romance       29732.644525   262.355475\n",
      "Sci-Fi         6527.403374    57.596626\n",
      "Sport          2840.932129    25.067871\n",
      "Talk-Show         4.956267     0.043733\n",
      "Thriller      22816.669834   201.330166\n",
      "War            5527.228734    48.771266\n",
      "Western        4950.319278    43.680722\n"
     ]
    }
   ],
   "source": [
    "\n",
    "\n",
    "import pandas as pd\n",
    "from scipy.stats import chi2_contingency\n",
    "\n",
    "\n",
    "df = title_basics_crew_principals_ratings_merged_df[['genres', 'isAdult']].copy()\n",
    "df['genres'] = df['genres'].str.split(',')\n",
    "df_exploded = df.explode('genres')\n",
    "\n",
    "\n",
    "contingency_table = pd.crosstab(df_exploded['genres'], df_exploded['isAdult'])\n",
    "\n",
    "\n",
    "chi2, p_value, dof, expected = chi2_contingency(contingency_table)\n",
    "\n",
    "\n",
    "print(\"Chi-square statistic:\", chi2)\n",
    "print(\"P-value:\", p_value)\n",
    "print(\"Degrees of freedom:\", dof)\n",
    "print(\"\\nExpected counts:\\n\", pd.DataFrame(expected, index=contingency_table.index, columns=contingency_table.columns))"
   ]
  }
 ],
 "metadata": {
  "kernelspec": {
   "display_name": "base",
   "language": "python",
   "name": "python3"
  },
  "language_info": {
   "codemirror_mode": {
    "name": "ipython",
    "version": 3
   },
   "file_extension": ".py",
   "mimetype": "text/x-python",
   "name": "python",
   "nbconvert_exporter": "python",
   "pygments_lexer": "ipython3",
   "version": "3.11.7"
  }
 },
 "nbformat": 4,
 "nbformat_minor": 2
}
